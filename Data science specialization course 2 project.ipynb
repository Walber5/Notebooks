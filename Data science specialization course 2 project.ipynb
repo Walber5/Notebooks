{
    "cells": [
        {
            "cell_type": "markdown",
            "metadata": {},
            "source": "# My Jupyter Notebook on IBM Watson Studio"
        },
        {
            "cell_type": "markdown",
            "metadata": {},
            "source": "**Waleed Faheem**"
        },
        {
            "cell_type": "markdown",
            "metadata": {},
            "source": "I'm currently a student who's doing his bachelors in Information technology. I aim to pursue a carrier in the field of data science. "
        },
        {
            "cell_type": "markdown",
            "metadata": {},
            "source": "*There are plenty of reasons that why i am intrested in the field of data science, however, i'd like mention a few such as I'm a person who's curios most of the time and try to find patterns of nature most of the time. This makes me suiutbale for this profession. Furthermore, i'll pursue my carrier abraod and as we know that this field gets paid a six figure income*"
        },
        {
            "cell_type": "markdown",
            "metadata": {},
            "source": "### The following code will multiply all of the numbers in loop with 5"
        },
        {
            "cell_type": "code",
            "execution_count": 2,
            "metadata": {},
            "outputs": [
                {
                    "name": "stdout",
                    "output_type": "stream",
                    "text": "[5, 10, 15, 20, 25]\n"
                }
            ],
            "source": "l = [1, 2, 3, 4, 5]\ns = []\nfor i in l:\n    s.append(i*5)\nprint(s)    "
        },
        {
            "cell_type": "markdown",
            "metadata": {},
            "source": "**The conclusion is that:**\n* We made a list that contains multiple of 5\n    1. We have two list, s and l\n\n**Visit my linkedin, lets connect there and help each other**\n* [Waleed Faheem Linkedin](https://www.linkedin.com/feed/)"
        },
        {
            "cell_type": "code",
            "execution_count": null,
            "metadata": {},
            "outputs": [],
            "source": ""
        }
    ],
    "metadata": {
        "kernelspec": {
            "display_name": "Python 3.9",
            "language": "python",
            "name": "python3"
        },
        "language_info": {
            "codemirror_mode": {
                "name": "ipython",
                "version": 3
            },
            "file_extension": ".py",
            "mimetype": "text/x-python",
            "name": "python",
            "nbconvert_exporter": "python",
            "pygments_lexer": "ipython3",
            "version": "3.9.12"
        }
    },
    "nbformat": 4,
    "nbformat_minor": 1
}